{
 "cells": [
  {
   "cell_type": "markdown",
   "metadata": {},
   "source": [
    "# Neural Style Transfer\n",
    "\n",
    "[Original paper](https://arxiv.org/abs/1508.06576) by Gatys et al."
   ]
  },
  {
   "cell_type": "markdown",
   "metadata": {},
   "source": [
    "## Math\n",
    "\n",
    "### Content and Style\n",
    "\n",
    "Let $C_{nn}$ be a pre-trained network. $C_{nn}(X)$ is the network fed by $X$. Define $F_{XL} \\in C_{nn}(X)$ as the feature maps of $C_{nn}(X)$ at layer $L$.\n",
    "\n",
    "We define the content of $X$ at layer $L$ simply be $F_{XL}$. So with another picture $Y$, the distance of **content** between $X$ and $Y$ is defined as:\n",
    "\n",
    "$$ D_C^L(X,Y) = ||F_{XL} - F_{YL}||^2 = \\sum_{i}(F_{XL}(i) - F_{YL}(i))^2 $$\n",
    "\n",
    "Then, we define the style of the image $X$ at layer $L$ as the gram matrix of $F_{XL}$. That is\n",
    "\n",
    "$$ G_{XL}(k, l) = \\langle F_{XL}^k, F_{XL}^l\\rangle = \\sum_{i}F_{XL}^k(i) \\cdot F_{YL}^l(i)$$\n",
    "\n",
    "So we can define the distance of **style** between two images, $X$ and $YS, as:\n",
    "\n",
    "$$ D_S^L(X,Y) = ||G_{XL} - G_{YL}||^2 = \\sum_{k, l}(G_{XL}(k, l) - G_{YL}(k, l))^2 $$\n",
    "\n",
    "### Loss function\n",
    "\n",
    "We define the total loss (content & style) as\n",
    "\n",
    "$$ \\$$\n",
    "\n"
   ]
  },
  {
   "cell_type": "code",
   "execution_count": null,
   "metadata": {},
   "outputs": [],
   "source": []
  }
 ],
 "metadata": {
  "kernelspec": {
   "display_name": "Python 3",
   "language": "python",
   "name": "python3"
  },
  "language_info": {
   "codemirror_mode": {
    "name": "ipython",
    "version": 3
   },
   "file_extension": ".py",
   "mimetype": "text/x-python",
   "name": "python",
   "nbconvert_exporter": "python",
   "pygments_lexer": "ipython3",
   "version": "3.6.4"
  }
 },
 "nbformat": 4,
 "nbformat_minor": 2
}
