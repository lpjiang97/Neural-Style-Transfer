{
 "cells": [
  {
   "cell_type": "markdown",
   "metadata": {},
   "source": [
    "# Fast Neural Transfer Style\n",
    "\n",
    "## implementation of [Johnson et al.](https://cs.stanford.edu/people/jcjohns/eccv16/)"
   ]
  },
  {
   "cell_type": "markdown",
   "metadata": {},
   "source": [
    "## define style"
   ]
  },
  {
   "cell_type": "code",
   "execution_count": 4,
   "metadata": {},
   "outputs": [],
   "source": [
    "import torch\n",
    "import torch.nn as nn\n",
    "import torch.nn.functional as F"
   ]
  },
  {
   "cell_type": "code",
   "execution_count": 5,
   "metadata": {},
   "outputs": [],
   "source": [
    "def gram(x):\n",
    "    batch, channel, width, height = x.size()\n",
    "    # flatten features\n",
    "    x = x.view(batch * channel, width * height)\n",
    "    # gram matrix \n",
    "    G = torch.mm(x, x.t())\n",
    "    # normalize\n",
    "    return G.div(batch * channel * width * height)"
   ]
  },
  {
   "cell_type": "code",
   "execution_count": 6,
   "metadata": {},
   "outputs": [],
   "source": [
    "# override loss as a module\n",
    "class Gram(nn.Module):\n",
    "    \n",
    "    def __init__(self, target):\n",
    "        super(Gram, self).__init__()\n",
    "        self.target = gram(target)\n",
    "        \n",
    "    def forward(self, x):\n",
    "        # Gram matrix is defined as the gram matrix of all vectors\n",
    "        self.loss = F.mse_loss(self.target, gram(x))\n",
    "        return x    "
   ]
  },
  {
   "cell_type": "code",
   "execution_count": null,
   "metadata": {},
   "outputs": [],
   "source": []
  }
 ],
 "metadata": {
  "kernelspec": {
   "display_name": "Python 3",
   "language": "python",
   "name": "python3"
  },
  "language_info": {
   "codemirror_mode": {
    "name": "ipython",
    "version": 3
   },
   "file_extension": ".py",
   "mimetype": "text/x-python",
   "name": "python",
   "nbconvert_exporter": "python",
   "pygments_lexer": "ipython3",
   "version": "3.6.4"
  }
 },
 "nbformat": 4,
 "nbformat_minor": 2
}
